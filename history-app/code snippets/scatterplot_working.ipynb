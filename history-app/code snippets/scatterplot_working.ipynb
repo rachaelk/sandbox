{
 "cells": [
  {
   "cell_type": "code",
   "execution_count": 2,
   "metadata": {
    "collapsed": false
   },
   "outputs": [
    {
     "name": "stdout",
     "output_type": "stream",
     "text": [
      "Would you like to begin?[y/n] >> y\n",
      "\n",
      "Info to save >> f1\n",
      "\n",
      "Date begin >> 1989\n",
      "\n",
      "Date end >> 1990\n",
      "\n",
      "Pages >> 90-99\n",
      "\n",
      "Book title >> t1\n",
      "\n",
      "Author >> t2\n",
      "\n",
      "Would you like to continue?[y/n] >> y\n",
      "\n",
      "Info to save >> f2\n",
      "\n",
      "Date begin >> 1900\n",
      "\n",
      "Date end >> 1910\n",
      "\n",
      "Pages >> 1-100\n",
      "\n",
      "Book title >> t3\n",
      "\n",
      "Author >> t4\n",
      "\n",
      "Would you like to continue?[y/n] >> n\n"
     ]
    }
   ],
   "source": [
    "count = 0;\n",
    "dlist_facts = [[], [], [], [], [], []]\n",
    "def obtainNewFact(dlist_facts):\n",
    "\tdlist_facts[0].append(raw_input('\\nInfo to save >> '))\n",
    "\tdlist_facts[1].append(raw_input('\\nDate begin >> '))\n",
    "\tdlist_facts[2].append(raw_input('\\nDate end >> '))\n",
    "\tdlist_facts[3].append(raw_input('\\nPages >> '))\n",
    "\tdlist_facts[4].append(raw_input('\\nBook title >> '))\n",
    "\tdlist_facts[5].append(raw_input('\\nAuthor >> '))\n",
    "cont = raw_input(\"Would you like to begin?[y/n] >> \")\n",
    "while(cont[0] == 'y'):\n",
    "\tobtainNewFact(dlist_facts)\n",
    "\tcont = raw_input(\"\\nWould you like to continue?[y/n] >> \")\n"
   ]
  },
  {
   "cell_type": "code",
   "execution_count": 3,
   "metadata": {
    "collapsed": false
   },
   "outputs": [
    {
     "data": {
      "text/plain": [
       "[['f1', 'f2'],\n",
       " ['1989', '1900'],\n",
       " ['1990', '1910'],\n",
       " ['90-99', '1-100'],\n",
       " ['t1', 't3'],\n",
       " ['t2', 't4']]"
      ]
     },
     "execution_count": 3,
     "metadata": {},
     "output_type": "execute_result"
    }
   ],
   "source": [
    "dlist_facts"
   ]
  },
  {
   "cell_type": "code",
   "execution_count": 4,
   "metadata": {
    "collapsed": true
   },
   "outputs": [],
   "source": [
    "import pandas as pd;\n",
    "import time;\n",
    "import datetime;"
   ]
  },
  {
   "cell_type": "code",
   "execution_count": 5,
   "metadata": {
    "collapsed": false
   },
   "outputs": [
    {
     "name": "stdout",
     "output_type": "stream",
     "text": [
      "  author book date_begin date_end fact  pages\n",
      "0     t2   t1       1989     1990   f1  90-99\n",
      "1     t4   t3       1900     1910   f2  1-100\n"
     ]
    }
   ],
   "source": [
    "facts = pd.DataFrame({'book': dlist_facts[4],'pages': dlist_facts[3], 'author': dlist_facts[5], 'fact': dlist_facts[0],  'date_begin': dlist_facts[1], 'date_end': dlist_facts[2]})\n",
    "\n",
    "print facts"
   ]
  },
  {
   "cell_type": "code",
   "execution_count": 6,
   "metadata": {
    "collapsed": false
   },
   "outputs": [
    {
     "name": "stdout",
     "output_type": "stream",
     "text": [
      "  author book date_begin   date_end fact  pages  id\n",
      "0     t2   t1       1989 1990-01-01   f1  90-99   0\n",
      "1     t4   t3       1900 1910-01-01   f2  1-100   1\n"
     ]
    }
   ],
   "source": [
    "facts['date_begin'] = pd.to_datetime(facts['date_begin'])\n",
    "facts['region']=[0,4]\n",
    "facts['date_end']   = pd.to_datetime(facts['date_end'])\n",
    "facts['id']=list(range(count, count +len(dlist_facts[0])))\n",
    "regions = ['NA', 'SA', 'Africa', 'Europe', 'Asia', 'Australia', 'Antarctica']\n",
    "\n",
    "print facts"
   ]
  },
  {
   "cell_type": "code",
   "execution_count": 12,
   "metadata": {
    "collapsed": true
   },
   "outputs": [],
   "source": [
    "facts['date_begin'] = pd.to_datetime(facts['date_begin'])"
   ]
  },
  {
   "cell_type": "code",
   "execution_count": 8,
   "metadata": {
    "collapsed": true
   },
   "outputs": [],
   "source": [
    "import numpy as np\n",
    "import matplotlib.pyplot as plt\n",
    "import matplotlib.dates as mdates\n",
    "import matplotlib.cbook as cbook"
   ]
  },
  {
   "cell_type": "code",
   "execution_count": 9,
   "metadata": {
    "collapsed": false
   },
   "outputs": [
    {
     "name": "stdout",
     "output_type": "stream",
     "text": [
      "  author book date_begin   date_end fact  pages  id       date  region\n",
      "0     t2   t1       1989 1990-01-01   f1  90-99   0 1989-01-01       0\n",
      "1     t4   t3       1900 1910-01-01   f2  1-100   1 1900-01-01       4\n"
     ]
    }
   ],
   "source": [
    "print facts"
   ]
  },
  {
   "cell_type": "code",
   "execution_count": 2,
   "metadata": {
    "collapsed": false
   },
   "outputs": [],
   "source": [
    "fig, ax = plt.subplots()\n"
   ]
  },
  {
   "cell_type": "code",
   "execution_count": 8,
   "metadata": {
    "collapsed": false
   },
   "outputs": [
    {
     "data": {
      "text/plain": [
       "[<matplotlib.lines.Line2D at 0x10a2a6490>]"
      ]
     },
     "execution_count": 8,
     "metadata": {},
     "output_type": "execute_result"
    }
   ],
   "source": [
    "ax.plot_date(facts['date_begin'],facts['regions'], '-')\n"
   ]
  },
  {
   "cell_type": "code",
   "execution_count": 22,
   "metadata": {
    "collapsed": true
   },
   "outputs": [],
   "source": [
    "facts.index.name = 'date'"
   ]
  },
  {
   "cell_type": "code",
   "execution_count": 23,
   "metadata": {
    "collapsed": true
   },
   "outputs": [],
   "source": [
    "facts.index = facts['date']"
   ]
  },
  {
   "cell_type": "code",
   "execution_count": 24,
   "metadata": {
    "collapsed": false
   },
   "outputs": [],
   "source": [
    "x = mpl.dates.date2num(facts.index.to_pydatetime())"
   ]
  },
  {
   "cell_type": "code",
   "execution_count": 25,
   "metadata": {
    "collapsed": false
   },
   "outputs": [
    {
     "data": {
      "text/plain": [
       "<matplotlib.collections.PathCollection at 0x10ba4a910>"
      ]
     },
     "execution_count": 25,
     "metadata": {},
     "output_type": "execute_result"
    }
   ],
   "source": [
    "plt.scatter(x, facts['region'])\n"
   ]
  },
  {
   "cell_type": "code",
   "execution_count": 26,
   "metadata": {
    "collapsed": true
   },
   "outputs": [],
   "source": [
    "plt.show()"
   ]
  },
  {
   "cell_type": "code",
   "execution_count": 27,
   "metadata": {
    "collapsed": false
   },
   "outputs": [
    {
     "name": "stdout",
     "output_type": "stream",
     "text": [
      "           author book date_begin   date_end fact  pages  id       date  \\\n",
      "date                                                                      \n",
      "1989-01-01     t2   t1 1989-01-01 1990-01-01   f1  90-99   0 1989-01-01   \n",
      "1900-01-01     t4   t3 1900-01-01 1910-01-01   f2  1-100   1 1900-01-01   \n",
      "\n",
      "            region  \n",
      "date                \n",
      "1989-01-01       0  \n",
      "1900-01-01       4  \n"
     ]
    }
   ],
   "source": [
    "print facts"
   ]
  },
  {
   "cell_type": "code",
   "execution_count": null,
   "metadata": {
    "collapsed": true
   },
   "outputs": [],
   "source": []
  }
 ],
 "metadata": {
  "kernelspec": {
   "display_name": "Python 2",
   "language": "python",
   "name": "python2"
  },
  "language_info": {
   "codemirror_mode": {
    "name": "ipython",
    "version": 2
   },
   "file_extension": ".py",
   "mimetype": "text/x-python",
   "name": "python",
   "nbconvert_exporter": "python",
   "pygments_lexer": "ipython2",
   "version": "2.7.10"
  }
 },
 "nbformat": 4,
 "nbformat_minor": 0
}
